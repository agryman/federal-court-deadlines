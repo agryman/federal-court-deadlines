{
 "cells": [
  {
   "cell_type": "markdown",
   "id": "1731a328-fa7f-453b-875f-6fdd680cdcf5",
   "metadata": {},
   "source": [
    "# Guideline\n",
    "*Arthur Ryman, last updated 2025-03-15*"
   ]
  },
  {
   "cell_type": "markdown",
   "id": "a793e299-28b8-4c6f-846a-928ab7332179",
   "metadata": {},
   "source": [
    "## Introduction\n",
    "\n",
    "The purpose of this notebook is to implement the \n",
    "[Guideline](https://www.fct-cf.gc.ca/en/pages/representing-yourself/deadlines-calculator/guideline)\n",
    "for calculating Federal Court due dates in Python."
   ]
  }
 ],
 "metadata": {
  "kernelspec": {
   "display_name": "Python 3 (ipykernel)",
   "language": "python",
   "name": "python3"
  },
  "language_info": {
   "codemirror_mode": {
    "name": "ipython",
    "version": 3
   },
   "file_extension": ".py",
   "mimetype": "text/x-python",
   "name": "python",
   "nbconvert_exporter": "python",
   "pygments_lexer": "ipython3",
   "version": "3.13.2"
  }
 },
 "nbformat": 4,
 "nbformat_minor": 5
}
