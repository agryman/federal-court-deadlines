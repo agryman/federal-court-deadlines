{
 "cells": [
  {
   "cell_type": "markdown",
   "id": "1731a328-fa7f-453b-875f-6fdd680cdcf5",
   "metadata": {},
   "source": [
    "# Guideline\n",
    "*Arthur Ryman, last updated 2025-03-23*"
   ]
  },
  {
   "cell_type": "markdown",
   "id": "a793e299-28b8-4c6f-846a-928ab7332179",
   "metadata": {},
   "source": [
    "## Introduction\n",
    "\n",
    "The purpose of this notebook is to develop Python code that implements the \n",
    "[Guideline](https://www.fct-cf.gc.ca/en/pages/representing-yourself/deadlines-calculator/guideline)\n",
    "for calculating Federal Court due dates."
   ]
  },
  {
   "cell_type": "markdown",
   "id": "3266c754-f904-484f-afc6-1f5ad97c2a78",
   "metadata": {},
   "source": [
    "## Federal Court Rules\n",
    "\n",
    "The following provisions of the \n",
    "[Federal Courts Rules](https://laws-lois.justice.gc.ca/eng/regulations/sor-98-106/FullText.html)\n",
    "will assist you in computing the time within which to file and serve your documents.\n",
    "\n",
    "* Rule 6(1) incorporates the provisions of sections 26 to 30 of the Interpretation Act for computing time.\n",
    "* Rule 6(2) governs the computation of periods of less than 7 days.\n",
    "* Rule 6(3) addresses the exclusion of the seasonal recess in the computation of time provided by the Rules.\n",
    "* Rules 7 and 8 govern extensions by consent and the Court’s discretion to extend or abridge time periods.\n",
    "* Holiday means a Saturday, Sunday or any other day defined as a holiday in subsection 35(1) of the Interpretation Act.\n",
    "* Summer recess means the months of July and August in each year.\n",
    "* Seasonal recess means the period beginning on December 21 in a year and ending on January 7 in the following year."
   ]
  },
  {
   "cell_type": "markdown",
   "id": "7767b110-2433-4387-91ba-369618464da6",
   "metadata": {},
   "source": [
    "## Deadlines - General\n",
    "\n",
    "> When a document is to be filed or served within a defined number of days before or after a specified event, \n",
    "do not include the day of the event when calculating the deadline, but do include all other days, \n",
    "including weekends and holidays (please see exceptions). The deadline includes the last day.\n",
    "\n",
    "At a high level, the problem is to compute a deadline for filing or serving a document.\n",
    "We'll generically refer to filing or serving a document as an *action*.\n",
    "The deadline for the action is triggered by some *event*.\n",
    "\n",
    "The deadline may be either before or after the event.\n",
    "\n",
    "For example, the event might be a court ruling and the action might be filing an appeal.\n",
    "In this case, the deadline is triggered by the date of the court ruling and comes after it.\n",
    "Presumably, an appeal filed after the deadline would be rejected.\n",
    "\n",
    "On the other hand, the event might be an upcoming trial in which case the parties may have to file evidence in\n",
    "advance of the event. \n",
    "In this case the deadline is before the event.\n",
    "\n",
    "Our task is to implement a function that computes the deadline date given the following input data:\n",
    "* `event_date`: the date of the event\n",
    "* `number_of_days`: the maximum permissible number of days that can elapse between the event and the required action\n",
    "We'll have to identity the set of distinct action types and implement the policies associated with each.\n",
    "We can start with *general* actions.\n",
    "\n",
    "Next, we consider the examples provided in the Guideline document."
   ]
  },
  {
   "cell_type": "markdown",
   "id": "9d59127c-a1ed-4035-9067-0b7e045d02ff",
   "metadata": {},
   "source": [
    "### Example 1 - 10 Days\n",
    "\n",
    "To calculate a 10-day deadline after a specific event, \n",
    "for example the filing of a document, do not include the first day of the period but do include the 10th day.  \n",
    "In this example, the period starts on May 31st and the 10th day is a Sunday, so the document is due on the next business day.\n",
    "\n",
    "<figure style=\"text-align: center;\">\n",
    "    <img src=\"images/guideline/general-example-1.png\">\n",
    "    <figcaption>Example 1 - 10 Days</figcaption>\n",
    "</figure>\n",
    "\n",
    "> The months of May (31 days) and June (30 days) are represented side by side in a calendar view. \n",
    "Thursday May 31st and Monday June 11th are highlighted in yellow to show the 10-day period taking into account the weekend."
   ]
  },
  {
   "attachments": {},
   "cell_type": "markdown",
   "id": "7693864f-ca18-469e-8eaa-53ceaffdc550",
   "metadata": {},
   "source": [
    "#### What year are the example calendars taken from?\n",
    "\n",
    "We'll use the examples given the Guideline document as test cases for our code.\n",
    "However, the calendars do not indicate the year.\n",
    "We need to determine the year so that we can exactly match the examples.\n",
    "\n",
    "The calendar in Example 1 shows May 1 on a Tuesday.\n",
    "Find the most recent year as of 2024 in which May 1 was a Tuesday. "
   ]
  },
  {
   "cell_type": "code",
   "execution_count": 1,
   "id": "eb44be13-bfa1-4d36-bbf7-9d0046b58d2e",
   "metadata": {},
   "outputs": [
    {
     "data": {
      "text/plain": [
       "2018"
      ]
     },
     "execution_count": 1,
     "metadata": {},
     "output_type": "execute_result"
    }
   ],
   "source": [
    "import calendar\n",
    "from deadlines.dates import find_year\n",
    "\n",
    "find_year(calendar.MAY, 1, calendar.TUESDAY, 2024)"
   ]
  },
  {
   "cell_type": "markdown",
   "id": "650492a9-2953-47f5-9451-8c080a7e6240",
   "metadata": {},
   "source": [
    "Verify this result by printing the calendar for May 2018."
   ]
  },
  {
   "cell_type": "code",
   "execution_count": 2,
   "id": "399c6b09-203f-4454-9c5a-4498962199b1",
   "metadata": {},
   "outputs": [
    {
     "name": "stdout",
     "output_type": "stream",
     "text": [
      "      May 2018\n",
      "Su Mo Tu We Th Fr Sa\n",
      "       1  2  3  4  5\n",
      " 6  7  8  9 10 11 12\n",
      "13 14 15 16 17 18 19\n",
      "20 21 22 23 24 25 26\n",
      "27 28 29 30 31\n"
     ]
    }
   ],
   "source": [
    "!python -m calendar -f 6 2018 5"
   ]
  },
  {
   "cell_type": "markdown",
   "id": "9d0b8748-fe93-4e2c-8ed5-a636547488be",
   "metadata": {},
   "source": [
    "The calendar for May 2018 matches the one shown in Example 1."
   ]
  },
  {
   "cell_type": "markdown",
   "id": "6aead651-39f0-45cd-a721-7d5c7b8f11c3",
   "metadata": {},
   "source": [
    "#### Example 1\n",
    "\n",
    "The event date is 2018-05-31 and the number of days is 10.\n",
    "The correct deadline date is 2018-06-11."
   ]
  },
  {
   "cell_type": "code",
   "execution_count": 3,
   "id": "e833f7bd-7c96-42ca-b7b9-d6bcb7b340cb",
   "metadata": {},
   "outputs": [
    {
     "data": {
      "text/plain": [
       "(datetime.date(2018, 5, 31), datetime.date(2018, 6, 11))"
      ]
     },
     "execution_count": 3,
     "metadata": {},
     "output_type": "execute_result"
    }
   ],
   "source": [
    "import datetime\n",
    "\n",
    "event_date = datetime.date(2018, calendar.MAY, 31)\n",
    "number_of_days = 10\n",
    "deadline_date = datetime.date(2018, calendar.JUNE, 11)\n",
    "\n",
    "event_date, deadline_date"
   ]
  },
  {
   "cell_type": "markdown",
   "id": "70c954c4-1861-4e0a-845f-e3df63c1a09a",
   "metadata": {},
   "source": [
    "To compute the due date we first find the date that is 10 days after the event date.\n",
    "We DO NOT include the day of the event but do include weekends and holidays. However, there are some exceptions\n",
    "which we'll ignore at the moment. We do include the last day as part of the 10-day period.\n",
    "However, if the last day falls on a weekend then the deadline is the next business day.\n",
    "\n",
    "I assume that in general the deadline MUST be a business day.\n",
    "Here I assume that a business day means that the court is open.\n",
    "This excludes weekends, holidays, and recesses.\n",
    "For now just consider weekends. \n",
    "We'll need to get a precise definition of holidays since this varies by jurisdiction."
   ]
  },
  {
   "cell_type": "code",
   "execution_count": 4,
   "id": "8148cabe-8ba7-4c81-93b5-3d8a441763d9",
   "metadata": {},
   "outputs": [
    {
     "data": {
      "text/plain": [
       "datetime.date(2018, 6, 11)"
      ]
     },
     "execution_count": 4,
     "metadata": {},
     "output_type": "execute_result"
    }
   ],
   "source": [
    "from deadlines.due_dates import deadline_after\n",
    "\n",
    "deadline_after(event_date, number_of_days)"
   ]
  },
  {
   "cell_type": "code",
   "execution_count": 5,
   "id": "d7d18714-4de6-41e0-bf58-7757f521b8a0",
   "metadata": {},
   "outputs": [
    {
     "data": {
      "text/plain": [
       "True"
      ]
     },
     "execution_count": 5,
     "metadata": {},
     "output_type": "execute_result"
    }
   ],
   "source": [
    "deadline_date == deadline_after(event_date, number_of_days)"
   ]
  },
  {
   "cell_type": "markdown",
   "id": "a87c6621-0d45-42e1-950d-d468eebd7330",
   "metadata": {},
   "source": [
    "Our simple code computes the right answer."
   ]
  },
  {
   "cell_type": "markdown",
   "id": "b9cd6f37-505f-4e20-ad2f-331db3e16665",
   "metadata": {},
   "source": [
    "### Example 2 - 20 Days\n",
    "\n",
    "To calculate a 20-day deadline after a specific event, for example the filing of a document, \n",
    "do not include the first day of the period but do include the 20th day. \n",
    "In this example, the period starts on May 1st and the 20th day is a holiday, \n",
    "so the document is due on the next business day, which is Tuesday May 22nd.\n",
    "\n",
    "<figure style=\"text-align: center;\">\n",
    "    <img src=\"images/guideline/general-example-2.png\">\n",
    "    <figcaption>Example 2 - 20 Days</figcaption>\n",
    "</figure>\n",
    "\n",
    "> Wednesday May 1st and Tuesday May 22nd are highlighted in yellow to show the 20-day period.\n",
    "\n",
    "> Note: in this example May 21st, which is a holiday (Victoria Day) is calculated in the computation of time."
   ]
  },
  {
   "cell_type": "code",
   "execution_count": 6,
   "id": "66601db9-ea2c-4d6e-80c7-4f28bf819b6e",
   "metadata": {},
   "outputs": [
    {
     "data": {
      "text/plain": [
       "datetime.date(2018, 5, 21)"
      ]
     },
     "execution_count": 6,
     "metadata": {},
     "output_type": "execute_result"
    }
   ],
   "source": [
    "event_date = datetime.date(2018, calendar.MAY, 1)\n",
    "number_of_days = 20\n",
    "deadline_date = datetime.date(2018, calendar.MAY, 22)\n",
    "\n",
    "deadline_after(event_date, number_of_days)"
   ]
  },
  {
   "cell_type": "markdown",
   "id": "9215a3af-d3a9-43c0-af8c-e2d11fade68e",
   "metadata": {},
   "source": [
    "Now we get the wrong answer because we haven't considered holidays.\n",
    "We need a list of holidays. This is a complication because some holidays depend on the jurisdiction.\n",
    "\n",
    "Where are the holidays defined?\n",
    "The Federal Court Guideline page contains the following statement:\n",
    "\n",
    "> Holiday means a Saturday, Sunday or any other day defined as a holiday in\n",
    "> [subsection 35(1)](https://laws-lois.justice.gc.ca/eng/acts/I-21/page-3.html#h-279462) of the\n",
    "> [Interpretation Act](https://laws-lois.justice.gc.ca/eng/acts/I-21/).\n",
    "\n",
    "Here is the offical definition of *holiday*.\n",
    "\n",
    "**holiday** means any of the following days, namely, \n",
    "Sunday; New Year’s Day; Good Friday; Easter Monday; Christmas Day; \n",
    "the birthday or the day fixed by proclamation for the celebration of the birthday of the reigning Sovereign; \n",
    "Victoria Day; Canada Day; the first Monday in September, designated Labour Day; \n",
    "National Day for Truth and Reconciliation, which is observed on September 30; Remembrance Day; \n",
    "any day appointed by proclamation to be observed as a day of general prayer or mourning or day of public rejoicing or thanksgiving; \n",
    "and any of the following additional days, namely,\n",
    "\n",
    "(a) in any province, any day appointed by proclamation of the lieutenant governor of the province to be observed as a public holiday \n",
    "or as a day of general prayer or mourning or day of public rejoicing or thanksgiving within the province, \n",
    "and any day that is a non-juridical day by virtue of an Act of the legislature of the province, and\n",
    "\n",
    "(b) in any city, town, municipality or other organized district, \n",
    "any day appointed to be observed as a civic holiday by resolution of the council or other authority charged with the \n",
    "administration of the civic or municipal affairs of the city, town, municipality or district; (jour férié)"
   ]
  },
  {
   "cell_type": "markdown",
   "id": "0dd8a854-798d-4984-bf37-88956c5b2dc0",
   "metadata": {},
   "source": [
    "We'll start by implementing the definitions of the Federal holidays.\n",
    "As for the provincial and local holidays, we only need to define those for the locations of Federal courts.\n",
    "I assume that there is a list of the relevant courts somewhere."
   ]
  },
  {
   "cell_type": "markdown",
   "id": "309feb18-c568-4cd5-8cb1-6b90a11bda80",
   "metadata": {},
   "source": [
    "The following holidays are defined in the [Holidays Act](https://laws-lois.justice.gc.ca/eng/acts/h-5/page-1.html).\n",
    "\n",
    "```\n",
    "Holidays Act\n",
    "R.S.C., 1985, c. H-5\n",
    "\n",
    "An Act respecting Holidays\n",
    "\n",
    "Short Title\n",
    "Marginal note:Short title\n",
    "\n",
    "1 This Act may be cited as the Holidays Act.\n",
    "\n",
    "R.S., c. H-7, s. 1\n",
    "Canada Day\n",
    "Marginal note:Canada Day\n",
    "\n",
    "2 (1) July 1, not being a Sunday, is a legal holiday and shall be kept and observed as such throughout Canada under the name of \"Canada Day\".\n",
    "\n",
    "Marginal note:When July 1 is a Sunday\n",
    "\n",
    "(2) When July 1 is a Sunday, July 2 is a legal holiday and shall be kept and observed as such throughout Canada under the name of \"Canada Day\".\n",
    "\n",
    "R.S., c. H-7, s. 21980-81-82-83, c. 124, s. 1\n",
    "Remembrance Day\n",
    "Marginal note:Remembrance Day\n",
    "\n",
    "3 November 11, being the day in the year 1918 on which the Great War was triumphantly concluded by an armistice, is a legal holiday and shall be kept and observed as such throughout Canada under the name of “Remembrance Day”.\n",
    "\n",
    "R.S., 1985, c. H-5, s. 32018, c. 3, s. 1\n",
    "Previous Version\n",
    "Victoria Day\n",
    "Marginal note:Victoria Day\n",
    "\n",
    "4 The first Monday immediately preceding May 25 is a legal holiday and shall be kept and observed as such throughout Canada under the name of \"Victoria Day\".\n",
    "\n",
    "R.S., c. H-7, s. 4\n",
    "```"
   ]
  },
  {
   "cell_type": "markdown",
   "id": "aa8d31bc-cf66-4847-a156-fa0d9c5f334c",
   "metadata": {},
   "source": [
    "There is a Python package that claims to compute holidays for many countries.\n",
    "See: https://pypi.org/project/holidays/"
   ]
  },
  {
   "cell_type": "code",
   "execution_count": 7,
   "id": "fe3551a4-f1e4-425d-867c-2e78dd73aa3f",
   "metadata": {},
   "outputs": [
    {
     "data": {
      "text/plain": [
       "datetime.date(2025, 1, 1)"
      ]
     },
     "execution_count": 7,
     "metadata": {},
     "output_type": "execute_result"
    }
   ],
   "source": [
    "new_years_day = datetime.date(2025, calendar.Month.JANUARY, 1)\n",
    "national_day = datetime.date(2025, calendar.Month.SEPTEMBER, 30)\n",
    "christmas_day = datetime.date(2025, calendar.Month.DECEMBER, 25)\n",
    "\n",
    "new_years_day"
   ]
  },
  {
   "cell_type": "code",
   "execution_count": 8,
   "id": "0e378da3-3908-4a31-84a9-25dbb124e6ae",
   "metadata": {},
   "outputs": [
    {
     "data": {
      "text/plain": [
       "(True, False, False)"
      ]
     },
     "execution_count": 8,
     "metadata": {},
     "output_type": "execute_result"
    }
   ],
   "source": [
    "def is_new_years_day(date: datetime.date) -> bool:\n",
    "    # New Year's Day is January 1\n",
    "    return date.month == calendar.Month.JANUARY and date.day == 1\n",
    "\n",
    "is_new_years_day(new_years_day), is_new_years_day(national_day), is_new_years_day(christmas_day)"
   ]
  }
 ],
 "metadata": {
  "kernelspec": {
   "display_name": "Python 3 (ipykernel)",
   "language": "python",
   "name": "python3"
  },
  "language_info": {
   "codemirror_mode": {
    "name": "ipython",
    "version": 3
   },
   "file_extension": ".py",
   "mimetype": "text/x-python",
   "name": "python",
   "nbconvert_exporter": "python",
   "pygments_lexer": "ipython3",
   "version": "3.13.2"
  }
 },
 "nbformat": 4,
 "nbformat_minor": 5
}
