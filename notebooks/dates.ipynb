{
 "cells": [
  {
   "cell_type": "markdown",
   "id": "1731a328-fa7f-453b-875f-6fdd680cdcf5",
   "metadata": {},
   "source": [
    "# Dates\n",
    "*Arthur Ryman, last updated 2025-04-01*"
   ]
  },
  {
   "cell_type": "markdown",
   "id": "a793e299-28b8-4c6f-846a-928ab7332179",
   "metadata": {},
   "source": [
    "## Introduction\n",
    "\n",
    "The purpose of this notebook is to develop Python code that implements date functions useful for the \n",
    "[Guideline](https://www.fct-cf.gc.ca/en/pages/representing-yourself/deadlines-calculator/guideline)\n",
    "for calculating Federal Court due dates."
   ]
  },
  {
   "cell_type": "markdown",
   "id": "3266c754-f904-484f-afc6-1f5ad97c2a78",
   "metadata": {},
   "source": [
    "## Federal Court Rules\n",
    "\n",
    "The following provisions of the \n",
    "[Federal Courts Rules](https://laws-lois.justice.gc.ca/eng/regulations/sor-98-106/FullText.html)\n",
    "will assist you in computing the time within which to file and serve your documents.\n",
    "\n",
    "* Rule 6(1) incorporates the provisions of sections 26 to 30 of the Interpretation Act for computing time.\n",
    "* Rule 6(2) governs the computation of periods of less than 7 days.\n",
    "* Rule 6(3) addresses the exclusion of the seasonal recess in the computation of time provided by the Rules.\n",
    "* Rules 7 and 8 govern extensions by consent and the Court’s discretion to extend or abridge time periods.\n",
    "* Holiday means a Saturday, Sunday or any other day defined as a holiday in subsection 35(1) of the Interpretation Act.\n",
    "* Summer recess means the months of July and August in each year.\n",
    "* Seasonal recess means the period beginning on December 21 in a year and ending on January 7 in the following year."
   ]
  },
  {
   "cell_type": "markdown",
   "id": "80271469-ffb0-49c2-87b8-17e7112b55cc",
   "metadata": {},
   "source": [
    "Clearly, we need some date and calendar functions.\n",
    "We need to be able compute the days before or after an event and determine if they are holidays.\n",
    "Fortunately, Python provides suitable functions."
   ]
  },
  {
   "cell_type": "markdown",
   "id": "42b075aa-9f0b-40e5-a82a-263cf2e1a339",
   "metadata": {},
   "source": [
    "The Python `datetime` module provides the `datetime.date` object which represents dates and can convert dates to\n",
    "and from strings. We'll write dates as strings in the ISO `YYYY-MM-DD` format.\n",
    "The following function makes a `datetime.date` object from an ISO date string."
   ]
  },
  {
   "cell_type": "code",
   "execution_count": 1,
   "id": "85679a90-a328-438f-8fbc-6f6113f77133",
   "metadata": {},
   "outputs": [
    {
     "data": {
      "text/plain": [
       "datetime.date(2025, 3, 14)"
      ]
     },
     "execution_count": 1,
     "metadata": {},
     "output_type": "execute_result"
    }
   ],
   "source": [
    "import datetime\n",
    "from deadlines.dates import parse_date\n",
    "\n",
    "PI_DAY = '2025-03-14'\n",
    "pi_date = parse_date(PI_DAY)\n",
    "\n",
    "pi_date"
   ]
  },
  {
   "cell_type": "markdown",
   "id": "8d29e9de-d4d7-4443-a9f5-26c468375ee2",
   "metadata": {},
   "source": [
    "Given a `datetime.date` object, we can convert it back to an ISO string."
   ]
  },
  {
   "cell_type": "code",
   "execution_count": 2,
   "id": "8b97eabd-4b90-4b74-bb22-5f4056f83c09",
   "metadata": {},
   "outputs": [
    {
     "data": {
      "text/plain": [
       "'2025-03-14'"
      ]
     },
     "execution_count": 2,
     "metadata": {},
     "output_type": "execute_result"
    }
   ],
   "source": [
    "from deadlines.dates import format_date\n",
    "\n",
    "format_date(pi_date)"
   ]
  },
  {
   "cell_type": "markdown",
   "id": "90530452-f18f-42f5-87e7-9ab31078c2b1",
   "metadata": {},
   "source": [
    "Given a date, we'll need to compute the days before it and the days after it.\n",
    "For example, compute 10 days after a given date."
   ]
  },
  {
   "cell_type": "code",
   "execution_count": 3,
   "id": "2eb013d4-1fbe-42eb-a52b-bfc81f4c0b3f",
   "metadata": {},
   "outputs": [
    {
     "data": {
      "text/plain": [
       "datetime.date(2025, 3, 24)"
      ]
     },
     "execution_count": 3,
     "metadata": {},
     "output_type": "execute_result"
    }
   ],
   "source": [
    "from deadlines.dates import add_days\n",
    "\n",
    "add_days(pi_date, 10)"
   ]
  },
  {
   "cell_type": "markdown",
   "id": "36983237-cefa-41ce-bc9a-0dc0f2f2d59c",
   "metadata": {},
   "source": [
    "The next date is one day after the given date."
   ]
  },
  {
   "cell_type": "code",
   "execution_count": 4,
   "id": "93765417-61ce-4bea-96a3-2cc26017452e",
   "metadata": {},
   "outputs": [
    {
     "data": {
      "text/plain": [
       "datetime.date(2025, 3, 15)"
      ]
     },
     "execution_count": 4,
     "metadata": {},
     "output_type": "execute_result"
    }
   ],
   "source": [
    "from deadlines.dates import next_date\n",
    "\n",
    "next_date(pi_date)"
   ]
  },
  {
   "cell_type": "markdown",
   "id": "14aa0474-8b3e-4833-adf5-fbfd69df247e",
   "metadata": {},
   "source": [
    "The previous date is one day before the given date."
   ]
  },
  {
   "cell_type": "code",
   "execution_count": 5,
   "id": "7e606e6b-79ba-4e0c-8ea9-415d3f441fa2",
   "metadata": {},
   "outputs": [
    {
     "data": {
      "text/plain": [
       "datetime.date(2025, 3, 13)"
      ]
     },
     "execution_count": 5,
     "metadata": {},
     "output_type": "execute_result"
    }
   ],
   "source": [
    "from deadlines.dates import previous_date\n",
    "\n",
    "previous_date(pi_date)"
   ]
  },
  {
   "cell_type": "markdown",
   "id": "f91b0997-c98e-4a9e-963c-b7274acec12e",
   "metadata": {},
   "source": [
    "We'll need to determine which day of the week a given day falls on.\n",
    "This capability will be used to determine if a given date is a weekend or holiday.\n",
    "Python numbers the days of the weekend from 0 to 6 with 0 being Monday."
   ]
  },
  {
   "cell_type": "code",
   "execution_count": 6,
   "id": "c0a54b24-7230-431d-9cee-5a0ffe10e69d",
   "metadata": {},
   "outputs": [
    {
     "data": {
      "text/plain": [
       "4"
      ]
     },
     "execution_count": 6,
     "metadata": {},
     "output_type": "execute_result"
    }
   ],
   "source": [
    "from deadlines.dates import weekday_number\n",
    "\n",
    "pi_weekday_number = weekday_number(pi_date)\n",
    "\n",
    "pi_weekday_number"
   ]
  },
  {
   "cell_type": "markdown",
   "id": "524c37da-b5e8-48f4-8947-c0ef7911fcaa",
   "metadata": {},
   "source": [
    "As of Python 3.12, the `calendar` module provides the `calendar.Day` class to enumerate the weekdays.\n",
    "However, Google Colab is currently at Python 3.11.11 so I backported it to my package as `Weekday`.\n",
    "Similarly for `Month`."
   ]
  },
  {
   "cell_type": "code",
   "execution_count": 7,
   "id": "3d47bb25-ba51-4e44-8a30-0f589d363173",
   "metadata": {},
   "outputs": [
    {
     "name": "stdout",
     "output_type": "stream",
     "text": [
      "0 MONDAY\n",
      "1 TUESDAY\n",
      "2 WEDNESDAY\n",
      "3 THURSDAY\n",
      "4 FRIDAY\n",
      "5 SATURDAY\n",
      "6 SUNDAY\n"
     ]
    }
   ],
   "source": [
    "from deadlines.enums import Month, Weekday\n",
    "\n",
    "for day in Weekday:\n",
    "    print(day.value, day.name)"
   ]
  },
  {
   "cell_type": "markdown",
   "id": "99e811f2-85c2-495f-b4b3-69464fe61b35",
   "metadata": {},
   "source": [
    "We can look up the weekday number in the `calendar.Day` enumeration."
   ]
  },
  {
   "cell_type": "code",
   "execution_count": 8,
   "id": "ca460dec-e7bc-41bd-843c-d3ec003df244",
   "metadata": {},
   "outputs": [
    {
     "data": {
      "text/plain": [
       "<Weekday.FRIDAY: 4>"
      ]
     },
     "execution_count": 8,
     "metadata": {},
     "output_type": "execute_result"
    }
   ],
   "source": [
    "Weekday(pi_weekday_number)"
   ]
  },
  {
   "cell_type": "markdown",
   "id": "5cb027c9-2843-4939-ad66-52d7517bd386",
   "metadata": {},
   "source": [
    "We can compare weekday numbers with the enumeration values."
   ]
  },
  {
   "cell_type": "code",
   "execution_count": 9,
   "id": "5504827a-fbd7-44fb-a6e6-c9537eed50a5",
   "metadata": {},
   "outputs": [
    {
     "data": {
      "text/plain": [
       "True"
      ]
     },
     "execution_count": 9,
     "metadata": {},
     "output_type": "execute_result"
    }
   ],
   "source": [
    "pi_weekday_number == Weekday.FRIDAY"
   ]
  },
  {
   "cell_type": "code",
   "execution_count": 10,
   "id": "4bee3f70-3d26-48f4-ae2e-853d69fac738",
   "metadata": {},
   "outputs": [
    {
     "data": {
      "text/plain": [
       "False"
      ]
     },
     "execution_count": 10,
     "metadata": {},
     "output_type": "execute_result"
    }
   ],
   "source": [
    "pi_weekday_number == Weekday.SATURDAY"
   ]
  },
  {
   "cell_type": "markdown",
   "id": "d9a7f650-7999-4337-aaf9-b0498a5b78b2",
   "metadata": {},
   "source": [
    "The Python `calendar` module also defines the names of the weekdays with the usual capitalization."
   ]
  },
  {
   "cell_type": "code",
   "execution_count": 11,
   "id": "1198ec87-2da8-454c-86f2-fccca2f748f0",
   "metadata": {},
   "outputs": [
    {
     "data": {
      "text/plain": [
       "['Monday', 'Tuesday', 'Wednesday', 'Thursday', 'Friday', 'Saturday', 'Sunday']"
      ]
     },
     "execution_count": 11,
     "metadata": {},
     "output_type": "execute_result"
    }
   ],
   "source": [
    "import calendar\n",
    "\n",
    "list(calendar.day_name)"
   ]
  },
  {
   "cell_type": "markdown",
   "id": "b834b5bc-4643-4818-87fe-994f8f0f806b",
   "metadata": {},
   "source": [
    "Given a date, we can look up its weekday name."
   ]
  },
  {
   "cell_type": "code",
   "execution_count": 12,
   "id": "fa8f3c2e-7b7e-4bb4-baa5-18c2f7a6f925",
   "metadata": {},
   "outputs": [
    {
     "data": {
      "text/plain": [
       "'Friday'"
      ]
     },
     "execution_count": 12,
     "metadata": {},
     "output_type": "execute_result"
    }
   ],
   "source": [
    "from deadlines.dates import weekday_name\n",
    "\n",
    "weekday_name(pi_date)"
   ]
  },
  {
   "cell_type": "markdown",
   "id": "1b54d72a-aa9c-4523-a83d-d4bc0949768c",
   "metadata": {},
   "source": [
    "The `calendar` module can print the calendar for a given year."
   ]
  },
  {
   "cell_type": "code",
   "execution_count": 13,
   "id": "f497415b-3018-4b95-93c9-3bbf088067fa",
   "metadata": {},
   "outputs": [
    {
     "name": "stdout",
     "output_type": "stream",
     "text": [
      "                                  2025\n",
      "\n",
      "      January                   February                   March\n",
      "Mo Tu We Th Fr Sa Su      Mo Tu We Th Fr Sa Su      Mo Tu We Th Fr Sa Su\n",
      "       1  2  3  4  5                      1  2                      1  2\n",
      " 6  7  8  9 10 11 12       3  4  5  6  7  8  9       3  4  5  6  7  8  9\n",
      "13 14 15 16 17 18 19      10 11 12 13 14 15 16      10 11 12 13 14 15 16\n",
      "20 21 22 23 24 25 26      17 18 19 20 21 22 23      17 18 19 20 21 22 23\n",
      "27 28 29 30 31            24 25 26 27 28            24 25 26 27 28 29 30\n",
      "                                                    31\n",
      "\n",
      "       April                      May                       June\n",
      "Mo Tu We Th Fr Sa Su      Mo Tu We Th Fr Sa Su      Mo Tu We Th Fr Sa Su\n",
      "    1  2  3  4  5  6                1  2  3  4                         1\n",
      " 7  8  9 10 11 12 13       5  6  7  8  9 10 11       2  3  4  5  6  7  8\n",
      "14 15 16 17 18 19 20      12 13 14 15 16 17 18       9 10 11 12 13 14 15\n",
      "21 22 23 24 25 26 27      19 20 21 22 23 24 25      16 17 18 19 20 21 22\n",
      "28 29 30                  26 27 28 29 30 31         23 24 25 26 27 28 29\n",
      "                                                    30\n",
      "\n",
      "        July                     August                  September\n",
      "Mo Tu We Th Fr Sa Su      Mo Tu We Th Fr Sa Su      Mo Tu We Th Fr Sa Su\n",
      "    1  2  3  4  5  6                   1  2  3       1  2  3  4  5  6  7\n",
      " 7  8  9 10 11 12 13       4  5  6  7  8  9 10       8  9 10 11 12 13 14\n",
      "14 15 16 17 18 19 20      11 12 13 14 15 16 17      15 16 17 18 19 20 21\n",
      "21 22 23 24 25 26 27      18 19 20 21 22 23 24      22 23 24 25 26 27 28\n",
      "28 29 30 31               25 26 27 28 29 30 31      29 30\n",
      "\n",
      "      October                   November                  December\n",
      "Mo Tu We Th Fr Sa Su      Mo Tu We Th Fr Sa Su      Mo Tu We Th Fr Sa Su\n",
      "       1  2  3  4  5                      1  2       1  2  3  4  5  6  7\n",
      " 6  7  8  9 10 11 12       3  4  5  6  7  8  9       8  9 10 11 12 13 14\n",
      "13 14 15 16 17 18 19      10 11 12 13 14 15 16      15 16 17 18 19 20 21\n",
      "20 21 22 23 24 25 26      17 18 19 20 21 22 23      22 23 24 25 26 27 28\n",
      "27 28 29 30 31            24 25 26 27 28 29 30      29 30 31\n"
     ]
    }
   ],
   "source": [
    "!python -m calendar 2025"
   ]
  },
  {
   "cell_type": "markdown",
   "id": "e405c5d4-e326-4976-a9e9-db543c3665c0",
   "metadata": {},
   "source": [
    "We can limit the calendar to one month."
   ]
  },
  {
   "cell_type": "code",
   "execution_count": 14,
   "id": "a443496d-6590-44d2-bbba-73a7952f60ce",
   "metadata": {},
   "outputs": [
    {
     "name": "stdout",
     "output_type": "stream",
     "text": [
      "     March 2025\n",
      "Mo Tu We Th Fr Sa Su\n",
      "                1  2\n",
      " 3  4  5  6  7  8  9\n",
      "10 11 12 13 14 15 16\n",
      "17 18 19 20 21 22 23\n",
      "24 25 26 27 28 29 30\n",
      "31\n"
     ]
    }
   ],
   "source": [
    "!python -m calendar 2025 3"
   ]
  },
  {
   "cell_type": "markdown",
   "id": "c86c7ce9-60bb-4978-a2c1-03830e3c334a",
   "metadata": {},
   "source": [
    "Note that by default weeks start on Monday. As of Python 3.12, we can change this to Sunday (day number 6) to match the examples given in the Federal Court Guideline document.\n",
    "However, we need to run on Python 3.11.11 since that is what Google Colab currently supports."
   ]
  },
  {
   "cell_type": "markdown",
   "id": "7767b110-2433-4387-91ba-369618464da6",
   "metadata": {},
   "source": [
    "## Deadlines - General\n",
    "\n",
    "> When a document is to be filed or served within a defined number of days before or after a specified event, \n",
    "do not include the day of the event when calculating the deadline, but do include all other days, \n",
    "including weekends and holidays (please see exceptions). The deadline includes the last day.\n",
    "\n",
    "At a high level, the problem is to compute a deadline for filing or serving a document.\n",
    "We'll generically refer to filing or serving a document as an *action*.\n",
    "The deadline for the action is triggered by some *event*.\n",
    "\n",
    "The deadline may be either before or after the event.\n",
    "\n",
    "For example, the event might be a court ruling and the action might be filing an appeal.\n",
    "In this case, the deadline is triggered by the date of the court ruling and comes after it.\n",
    "Presumably, an appeal filed after the deadline would be rejected.\n",
    "\n",
    "On the other hand, the event might be an upcoming trial in which case the parties may have to file evidence in\n",
    "advance of the event. \n",
    "In this case the deadline is before the event.\n",
    "\n",
    "Our task is to implement a function that computes the deadline date given the following input data:\n",
    "* `event_date`: the date of the event\n",
    "* `deadline_is_after_event`: a boolean flag that is `True` if the deadline is after the event and `False` if the deadline is before the event\n",
    "* `max_days`: the maximum permissible number of days that can elapse between the event and the required action\n",
    "* `action_type`: the detailed rules for computing the deadline depend on several factors related to the nature of the action.\n",
    "We'll have to identity the set of distinct action types and implement the policies associated with each.\n",
    "We can start with *general* actions.\n",
    "\n",
    "Next, we consider the examples provided in the Guideline document."
   ]
  },
  {
   "cell_type": "markdown",
   "id": "9d59127c-a1ed-4035-9067-0b7e045d02ff",
   "metadata": {},
   "source": [
    "### General Example 1 - 10 Days\n",
    "\n",
    "To calculate a 10-day deadline after a specific event, \n",
    "for example the filing of a document, do not include the first day of the period but do include the 10th day.  \n",
    "In this example, the period starts on May 31st and the 10th day is a Sunday, so the document is due on the next business day.\n",
    "\n",
    "<figure style=\"text-align: center;\">\n",
    "    <img src=\"images/guideline/general-example-1.png\">\n",
    "    <figcaption>Example 1 - 10 Days</figcaption>\n",
    "</figure>\n",
    "\n",
    "The months of May (31 days) and June (30 days) are represented side by side in a calendar view. Thursday May 31st and Monday June 11th are highlighted in yellow to show the 10-day period taking into account the weekend."
   ]
  },
  {
   "attachments": {},
   "cell_type": "markdown",
   "id": "7693864f-ca18-469e-8eaa-53ceaffdc550",
   "metadata": {},
   "source": [
    "#### What year are the example calendars taken from?\n",
    "\n",
    "We'll use the examples given the Guideline document as test cases for our code.\n",
    "However, the calendars do not indicate the year.\n",
    "We need to determine the year so that we can exactly match the examples.\n",
    "\n",
    "The calendar in Example 1 shows May 1 on a Tuesday.\n",
    "Find the most recent year as of 2024 in which May 1 was a Tuesday. "
   ]
  },
  {
   "cell_type": "code",
   "execution_count": 15,
   "id": "eb44be13-bfa1-4d36-bbf7-9d0046b58d2e",
   "metadata": {},
   "outputs": [
    {
     "data": {
      "text/plain": [
       "2018"
      ]
     },
     "execution_count": 15,
     "metadata": {},
     "output_type": "execute_result"
    }
   ],
   "source": [
    "from deadlines.dates import find_year\n",
    "\n",
    "find_year(Month.MAY, 1, Weekday.TUESDAY, 2024)"
   ]
  },
  {
   "cell_type": "markdown",
   "id": "650492a9-2953-47f5-9451-8c080a7e6240",
   "metadata": {},
   "source": [
    "Verify this result by printing the calendar for May 2018."
   ]
  },
  {
   "cell_type": "code",
   "execution_count": 16,
   "id": "399c6b09-203f-4454-9c5a-4498962199b1",
   "metadata": {},
   "outputs": [
    {
     "name": "stdout",
     "output_type": "stream",
     "text": [
      "      May 2018\n",
      "Mo Tu We Th Fr Sa Su\n",
      "    1  2  3  4  5  6\n",
      " 7  8  9 10 11 12 13\n",
      "14 15 16 17 18 19 20\n",
      "21 22 23 24 25 26 27\n",
      "28 29 30 31\n"
     ]
    }
   ],
   "source": [
    "!python -m calendar 2018 5"
   ]
  },
  {
   "cell_type": "markdown",
   "id": "9d0b8748-fe93-4e2c-8ed5-a636547488be",
   "metadata": {},
   "source": [
    "The calendar for May 2018 matches the one shown in Example 1."
   ]
  },
  {
   "cell_type": "markdown",
   "id": "6aead651-39f0-45cd-a721-7d5c7b8f11c3",
   "metadata": {},
   "source": [
    "The event date is 2018-05-31 and the maximum number of days is 10."
   ]
  },
  {
   "cell_type": "code",
   "execution_count": 17,
   "id": "e833f7bd-7c96-42ca-b7b9-d6bcb7b340cb",
   "metadata": {},
   "outputs": [
    {
     "data": {
      "text/plain": [
       "datetime.date(2018, 5, 31)"
      ]
     },
     "execution_count": 17,
     "metadata": {},
     "output_type": "execute_result"
    }
   ],
   "source": [
    "event_date = datetime.date(2018, Month.MAY, 31)\n",
    "deadline_is_after_event = True\n",
    "max_days = 10\n",
    "action_type = None\n",
    "\n",
    "event_date"
   ]
  },
  {
   "cell_type": "markdown",
   "id": "90e1adfa-a8b7-4607-908b-af31e451aea4",
   "metadata": {},
   "source": [
    "### Holidays/Weekends Example 2 - 4 Days\n",
    "\n",
    "The calendar for this example is not contiguous with the previous examples.\n",
    "\n",
    "<figure style=\"text-align: center;\">\n",
    "    <img src=\"images/guideline/holidays-weekends-example-2.png\">\n",
    "    <figcaption>Holidays/Weekends Example 2 - 4 Days</figcaption>\n",
    "</figure>\n",
    "\n",
    "What year is this?"
   ]
  },
  {
   "cell_type": "code",
   "execution_count": 18,
   "id": "cb477bbd-bfbf-416a-a219-789a017c9b8a",
   "metadata": {},
   "outputs": [
    {
     "data": {
      "text/plain": [
       "2018"
      ]
     },
     "execution_count": 18,
     "metadata": {},
     "output_type": "execute_result"
    }
   ],
   "source": [
    "find_year(Month.APRIL, 1, Weekday.SUNDAY, 2024)"
   ]
  },
  {
   "cell_type": "code",
   "execution_count": 19,
   "id": "9408c324-8dfc-4618-8491-3927b0b81bb0",
   "metadata": {},
   "outputs": [
    {
     "name": "stdout",
     "output_type": "stream",
     "text": [
      "     April 2018\n",
      "Mo Tu We Th Fr Sa Su\n",
      "                   1\n",
      " 2  3  4  5  6  7  8\n",
      " 9 10 11 12 13 14 15\n",
      "16 17 18 19 20 21 22\n",
      "23 24 25 26 27 28 29\n",
      "30\n"
     ]
    }
   ],
   "source": [
    "!python -m calendar 2018 4"
   ]
  },
  {
   "cell_type": "markdown",
   "id": "afa05b6b-efa1-491d-a355-cf9b6eb5ef95",
   "metadata": {},
   "source": [
    "Although the dates match for 2018, the holidays don't. \n",
    "A web search reveals that the most recent year in which Good Friday fell on April 6 was 2012."
   ]
  },
  {
   "cell_type": "markdown",
   "id": "e96480b5-7d33-4f7e-bf46-2f7df5a950d6",
   "metadata": {},
   "source": [
    "Calculate Good Friday for 2012."
   ]
  },
  {
   "cell_type": "code",
   "execution_count": 20,
   "id": "5ff35663-ffd1-459b-b73d-a7250cd95c23",
   "metadata": {},
   "outputs": [
    {
     "data": {
      "text/plain": [
       "datetime.date(2012, 4, 6)"
      ]
     },
     "execution_count": 20,
     "metadata": {},
     "output_type": "execute_result"
    }
   ],
   "source": [
    "from deadlines.canadian_holidays import *\n",
    "\n",
    "calc_good_friday(2012)"
   ]
  },
  {
   "cell_type": "markdown",
   "id": "49e03370-e502-4c5c-9cfc-9e4603e071bd",
   "metadata": {},
   "source": [
    "Print the calendar for 2012 and compare it to all the examples."
   ]
  },
  {
   "cell_type": "code",
   "execution_count": 21,
   "id": "5a61ed60-ffb5-4ada-90ba-8c048aea9df6",
   "metadata": {},
   "outputs": [
    {
     "name": "stdout",
     "output_type": "stream",
     "text": [
      "                                  2012\n",
      "\n",
      "      January                   February                   March\n",
      "Mo Tu We Th Fr Sa Su      Mo Tu We Th Fr Sa Su      Mo Tu We Th Fr Sa Su\n",
      "                   1             1  2  3  4  5                1  2  3  4\n",
      " 2  3  4  5  6  7  8       6  7  8  9 10 11 12       5  6  7  8  9 10 11\n",
      " 9 10 11 12 13 14 15      13 14 15 16 17 18 19      12 13 14 15 16 17 18\n",
      "16 17 18 19 20 21 22      20 21 22 23 24 25 26      19 20 21 22 23 24 25\n",
      "23 24 25 26 27 28 29      27 28 29                  26 27 28 29 30 31\n",
      "30 31\n",
      "\n",
      "       April                      May                       June\n",
      "Mo Tu We Th Fr Sa Su      Mo Tu We Th Fr Sa Su      Mo Tu We Th Fr Sa Su\n",
      "                   1          1  2  3  4  5  6                   1  2  3\n",
      " 2  3  4  5  6  7  8       7  8  9 10 11 12 13       4  5  6  7  8  9 10\n",
      " 9 10 11 12 13 14 15      14 15 16 17 18 19 20      11 12 13 14 15 16 17\n",
      "16 17 18 19 20 21 22      21 22 23 24 25 26 27      18 19 20 21 22 23 24\n",
      "23 24 25 26 27 28 29      28 29 30 31               25 26 27 28 29 30\n",
      "30\n",
      "\n",
      "        July                     August                  September\n",
      "Mo Tu We Th Fr Sa Su      Mo Tu We Th Fr Sa Su      Mo Tu We Th Fr Sa Su\n",
      "                   1             1  2  3  4  5                      1  2\n",
      " 2  3  4  5  6  7  8       6  7  8  9 10 11 12       3  4  5  6  7  8  9\n",
      " 9 10 11 12 13 14 15      13 14 15 16 17 18 19      10 11 12 13 14 15 16\n",
      "16 17 18 19 20 21 22      20 21 22 23 24 25 26      17 18 19 20 21 22 23\n",
      "23 24 25 26 27 28 29      27 28 29 30 31            24 25 26 27 28 29 30\n",
      "30 31\n",
      "\n",
      "      October                   November                  December\n",
      "Mo Tu We Th Fr Sa Su      Mo Tu We Th Fr Sa Su      Mo Tu We Th Fr Sa Su\n",
      " 1  2  3  4  5  6  7                1  2  3  4                      1  2\n",
      " 8  9 10 11 12 13 14       5  6  7  8  9 10 11       3  4  5  6  7  8  9\n",
      "15 16 17 18 19 20 21      12 13 14 15 16 17 18      10 11 12 13 14 15 16\n",
      "22 23 24 25 26 27 28      19 20 21 22 23 24 25      17 18 19 20 21 22 23\n",
      "29 30 31                  26 27 28 29 30            24 25 26 27 28 29 30\n",
      "                                                    31\n"
     ]
    }
   ],
   "source": [
    "!python -m calendar 2012"
   ]
  },
  {
   "cell_type": "markdown",
   "id": "908da958-02b7-437f-b335-52444b570752",
   "metadata": {},
   "source": [
    "The calendar for 2012 matches all the General examples since May 1 is a Tuesday, both Holiday/Weekend examples\n",
    "since April 1 is a Sunday, the Summer Recess example since June 1 is a Friday, \n",
    "and the first 2 Seasonal Recess examples since December 1 is a Saturday.\n",
    "The third Seasonal Recess example has December 1 on Wednesday."
   ]
  },
  {
   "cell_type": "markdown",
   "id": "62bcf9ea-b791-4ca1-91cd-192d6750e1db",
   "metadata": {},
   "source": [
    "### Seasonal Recess Example 1 - 30 Days\n",
    "\n",
    "The calendar for this example is not contiguous with the previous examples.\n",
    "\n",
    "<figure style=\"text-align: center;\">\n",
    "    <img src=\"images/guideline/seasonal-recess-example-1.png\">\n",
    "    <figcaption>Seasonal Recess Example 1 - 30 Days</figcaption>\n",
    "</figure>\n",
    "\n",
    "What year is this?"
   ]
  },
  {
   "cell_type": "code",
   "execution_count": 22,
   "id": "bcab3538-293d-490d-9bcf-8db21f8504bb",
   "metadata": {},
   "outputs": [
    {
     "data": {
      "text/plain": [
       "2018"
      ]
     },
     "execution_count": 22,
     "metadata": {},
     "output_type": "execute_result"
    }
   ],
   "source": [
    "find_year(Month.DECEMBER, 1, Weekday.SATURDAY, 2024)"
   ]
  },
  {
   "cell_type": "markdown",
   "id": "4a61a83d-e542-41e0-84b8-bb5e4f762062",
   "metadata": {},
   "source": [
    "This example also matches 2018. \n",
    "Seasonal Recess Example 2 has the same calendar.\n",
    "\n",
    "Print the calendar to confirm this."
   ]
  },
  {
   "cell_type": "code",
   "execution_count": 23,
   "id": "4c24f218-9292-4063-8298-b39f0b45bc88",
   "metadata": {},
   "outputs": [
    {
     "name": "stdout",
     "output_type": "stream",
     "text": [
      "   December 2018\n",
      "Mo Tu We Th Fr Sa Su\n",
      "                1  2\n",
      " 3  4  5  6  7  8  9\n",
      "10 11 12 13 14 15 16\n",
      "17 18 19 20 21 22 23\n",
      "24 25 26 27 28 29 30\n",
      "31\n"
     ]
    }
   ],
   "source": [
    "!python -m calendar 2018 12"
   ]
  },
  {
   "cell_type": "markdown",
   "id": "cf7890da-209a-43be-baab-2758411a3543",
   "metadata": {},
   "source": [
    "### Seasonal Recess Example 3 - 4 Days\n",
    "\n",
    "The calendar for this example is not contiguous with the previous examples.\n",
    "\n",
    "<figure style=\"text-align: center;\">\n",
    "    <img src=\"images/guideline/seasonal-recess-example-3.png\">\n",
    "    <figcaption>Seasonal Recess Example 3 - 4 Days</figcaption>\n",
    "</figure>\n",
    "\n",
    "What year is this?"
   ]
  },
  {
   "cell_type": "code",
   "execution_count": 24,
   "id": "7024f8c6-f127-4494-bf48-0c63cfa3d73a",
   "metadata": {},
   "outputs": [
    {
     "data": {
      "text/plain": [
       "2021"
      ]
     },
     "execution_count": 24,
     "metadata": {},
     "output_type": "execute_result"
    }
   ],
   "source": [
    "find_year(Month.DECEMBER, 1, Weekday.WEDNESDAY, 2024)"
   ]
  },
  {
   "cell_type": "markdown",
   "id": "500d797c-6fbe-4c32-a14c-5d57d7ac1a38",
   "metadata": {},
   "source": [
    "Print the calendar to confirm this."
   ]
  },
  {
   "cell_type": "code",
   "execution_count": 25,
   "id": "0d9cb9dc-808f-4ba5-83e1-19a4c28cb70d",
   "metadata": {},
   "outputs": [
    {
     "name": "stdout",
     "output_type": "stream",
     "text": [
      "   December 2021\n",
      "Mo Tu We Th Fr Sa Su\n",
      "       1  2  3  4  5\n",
      " 6  7  8  9 10 11 12\n",
      "13 14 15 16 17 18 19\n",
      "20 21 22 23 24 25 26\n",
      "27 28 29 30 31\n"
     ]
    }
   ],
   "source": [
    "!python -m calendar 2021 12"
   ]
  },
  {
   "cell_type": "markdown",
   "id": "c80abec9-b5f1-4682-a3ce-f865935927cd",
   "metadata": {},
   "source": [
    "## Summary\n",
    "\n",
    "All examples except the last one match 2012. The last example matches 2021. \n",
    "This is plausible because the web page has a last modification date of 2023-09-22.\n",
    "Whoever added the last example didn't update the calendar figure consistentlt because its caption is \"Example 2\" but it\n",
    "should be \"Example 3\"."
   ]
  },
  {
   "cell_type": "markdown",
   "id": "45884181-8f6b-4a6f-8da7-fbac132deead",
   "metadata": {},
   "source": [
    "## Next Steps\n",
    "\n",
    "At this point we have enough generic date functions and have identified the correct years for each example.\n",
    "Next, implement the detailed Federal Rules and test the code against all these examples."
   ]
  }
 ],
 "metadata": {
  "kernelspec": {
   "display_name": "Python 3 (ipykernel)",
   "language": "python",
   "name": "python3"
  },
  "language_info": {
   "codemirror_mode": {
    "name": "ipython",
    "version": 3
   },
   "file_extension": ".py",
   "mimetype": "text/x-python",
   "name": "python",
   "nbconvert_exporter": "python",
   "pygments_lexer": "ipython3",
   "version": "3.11.11"
  }
 },
 "nbformat": 4,
 "nbformat_minor": 5
}
