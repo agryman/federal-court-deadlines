{
 "cells": [
  {
   "cell_type": "markdown",
   "id": "1d695bb1-82f3-409d-9afa-86bcdaafa5ba",
   "metadata": {},
   "source": [
    "# holidays\n",
    "*Arthur Ryman, last updated 2025-04-01*"
   ]
  },
  {
   "cell_type": "markdown",
   "id": "c5726df5-49b1-4091-847c-eae00f44e9a8",
   "metadata": {},
   "source": [
    "## Introduction\n",
    "\n",
    "The purpose of this notebook is to test drive the Python `holidays` package.\n",
    "\n",
    "* [PyPI](https://pypi.org/project/holidays/)\n",
    "* [Read the Docs](https://holidays.readthedocs.io/en/latest/)"
   ]
  },
  {
   "cell_type": "markdown",
   "id": "8bddee46-c142-4316-85c6-0b3df51a235f",
   "metadata": {},
   "source": [
    "## Quick Start"
   ]
  },
  {
   "cell_type": "code",
   "execution_count": 1,
   "id": "8efd780e-6e1f-4666-a99f-f680d67d0791",
   "metadata": {},
   "outputs": [
    {
     "data": {
      "text/plain": [
       "True"
      ]
     },
     "execution_count": 1,
     "metadata": {},
     "output_type": "execute_result"
    }
   ],
   "source": [
    "from datetime import date\n",
    "import holidays\n",
    "\n",
    "us_holidays = holidays.US()  # this is a dict-like object\n",
    "# the below is the same, but takes a string:\n",
    "us_holidays = holidays.country_holidays('US')  # this is a dict-like object\n",
    "\n",
    "nyse_holidays = holidays.NYSE()  # this is a dict-like object\n",
    "# the below is the same, but takes a string:\n",
    "nyse_holidays = holidays.financial_holidays('NYSE')  # this is a dict-like object\n",
    "\n",
    "date(2015, 1, 1) in us_holidays  # True"
   ]
  },
  {
   "cell_type": "code",
   "execution_count": 2,
   "id": "9466c72e-f397-462f-9c61-e5bee5d9be63",
   "metadata": {},
   "outputs": [
    {
     "data": {
      "text/plain": [
       "False"
      ]
     },
     "execution_count": 2,
     "metadata": {},
     "output_type": "execute_result"
    }
   ],
   "source": [
    "date(2015, 1, 2) in us_holidays  # False"
   ]
  },
  {
   "cell_type": "code",
   "execution_count": 3,
   "id": "8faebab3-73c6-40df-b792-80e2dc84027c",
   "metadata": {},
   "outputs": [
    {
     "data": {
      "text/plain": [
       "\"New Year's Day\""
      ]
     },
     "execution_count": 3,
     "metadata": {},
     "output_type": "execute_result"
    }
   ],
   "source": [
    "us_holidays.get('2014-01-01')  # \"New Year's Day\""
   ]
  },
  {
   "cell_type": "code",
   "execution_count": 4,
   "id": "befd6234-9d99-48a5-aaba-5c49f7b918df",
   "metadata": {},
   "outputs": [
    {
     "data": {
      "text/plain": [
       "True"
      ]
     },
     "execution_count": 4,
     "metadata": {},
     "output_type": "execute_result"
    }
   ],
   "source": [
    "'2014-01-01' in us_holidays  # True"
   ]
  },
  {
   "cell_type": "code",
   "execution_count": 5,
   "id": "8630d8ad-a6bc-4c3c-8ede-13791eb099ba",
   "metadata": {},
   "outputs": [
    {
     "data": {
      "text/plain": [
       "True"
      ]
     },
     "execution_count": 5,
     "metadata": {},
     "output_type": "execute_result"
    }
   ],
   "source": [
    "'1/1/2014' in us_holidays    # True"
   ]
  },
  {
   "cell_type": "code",
   "execution_count": 6,
   "id": "f12cc54f-2c69-412e-bd1c-7c4febbb9fe5",
   "metadata": {},
   "outputs": [
    {
     "data": {
      "text/plain": [
       "True"
      ]
     },
     "execution_count": 6,
     "metadata": {},
     "output_type": "execute_result"
    }
   ],
   "source": [
    "1388597445 in us_holidays    # True"
   ]
  },
  {
   "cell_type": "code",
   "execution_count": 7,
   "id": "906bbae1-5370-4833-a373-9fa6ec3e710f",
   "metadata": {},
   "outputs": [
    {
     "data": {
      "text/plain": [
       "False"
      ]
     },
     "execution_count": 7,
     "metadata": {},
     "output_type": "execute_result"
    }
   ],
   "source": [
    "us_pr_holidays = holidays.country_holidays('US', subdiv='PR')\n",
    "'2018-01-06' in us_holidays     # False"
   ]
  },
  {
   "cell_type": "code",
   "execution_count": 8,
   "id": "fcf3ce11-e314-4538-ac8b-8ca2c7ae2ae5",
   "metadata": {},
   "outputs": [
    {
     "data": {
      "text/plain": [
       "True"
      ]
     },
     "execution_count": 8,
     "metadata": {},
     "output_type": "execute_result"
    }
   ],
   "source": [
    "'2018-01-06' in us_pr_holidays  # True"
   ]
  },
  {
   "cell_type": "markdown",
   "id": "3a90551a-6485-4263-b7bd-cd49fe1d60d9",
   "metadata": {},
   "source": [
    "## Read the Docs\n",
    "\n",
    "Test on Canadian holidays. \n",
    "The CRA webiste contains\n",
    "[Public holidays](https://www.canada.ca/en/revenue-agency/services/tax/public-holidays.html):\n",
    "\n",
    "### Public holidays for 2025\n",
    "1. New Year – Wednesday, January 1, 2025\n",
    "1. Good Friday – Friday, April 18, 2025\n",
    "1. Easter Monday – Monday, April 21, 2025\n",
    "1. Victoria Day – Monday, May 19, 2025\n",
    "1. Saint-Jean-Baptiste Day – Tuesday, June 24, 2025 (Quebec only)\n",
    "1. Canada Day – Tuesday, July 1, 2025\n",
    "1. Civic Holiday – Monday, August 4, 2025 (excluding Quebec)\n",
    "1. Labour Day – Monday, September 1, 2025\n",
    "1. National Day for Truth and Reconciliation – Tuesday, September 30, 2025 \n",
    "1. Thanksgiving Day – Monday, October 13, 2025\n",
    "1. Remembrance Day – Tuesday, November 11, 2025\n",
    "1. Christmas Day – Thursday, December 25, 2025\n",
    "1. Boxing Day – Friday, December 26, 2025"
   ]
  },
  {
   "cell_type": "code",
   "execution_count": 9,
   "id": "855a27bc-28b8-4397-9545-62d850688699",
   "metadata": {},
   "outputs": [],
   "source": [
    "cra_holidays = [\n",
    "    '2025-01-01',\n",
    "    '2025-04-18',\n",
    "    '2025-04-21',\n",
    "    '2025-05-19',\n",
    "    '2025-06-24',\n",
    "    '2025-07-01',\n",
    "    '2025-08-04',\n",
    "    '2025-09-01',\n",
    "    '2025-09-30',\n",
    "    '2025-10-13',\n",
    "    '2025-11-11',\n",
    "    '2025-12-25',\n",
    "    '2025-12-26'\n",
    "]\n",
    "\n",
    "quebec_only = '2025-06-24'\n",
    "excluding_quebec = '2025-08-04'"
   ]
  },
  {
   "cell_type": "markdown",
   "id": "a6109bdf-a84b-4338-8077-95e2f975c6f4",
   "metadata": {},
   "source": [
    "Check these dates against the `holidays` package for Canada."
   ]
  },
  {
   "cell_type": "code",
   "execution_count": 10,
   "id": "43902ac5-275c-40d5-befe-bf4699d169d1",
   "metadata": {},
   "outputs": [
    {
     "data": {
      "text/plain": [
       "{'2025-01-01': True,\n",
       " '2025-04-18': True,\n",
       " '2025-04-21': False,\n",
       " '2025-05-19': False,\n",
       " '2025-06-24': False,\n",
       " '2025-07-01': True,\n",
       " '2025-08-04': False,\n",
       " '2025-09-01': True,\n",
       " '2025-09-30': False,\n",
       " '2025-10-13': False,\n",
       " '2025-11-11': False,\n",
       " '2025-12-25': True,\n",
       " '2025-12-26': False}"
      ]
     },
     "execution_count": 10,
     "metadata": {},
     "output_type": "execute_result"
    }
   ],
   "source": [
    "ca_holidays = holidays.CA()\n",
    "\n",
    "{x : x in ca_holidays for x in cra_holidays}"
   ]
  },
  {
   "cell_type": "markdown",
   "id": "3a9c5987-8f56-4db3-a910-e2469f97b3c4",
   "metadata": {},
   "source": [
    "The `holidays` package only contains five Canadian holidays listed by the CRA.\n",
    "What does the package actually contain?"
   ]
  },
  {
   "cell_type": "code",
   "execution_count": 11,
   "id": "28198bb1-133a-4013-a39f-edec69be0f00",
   "metadata": {},
   "outputs": [
    {
     "name": "stdout",
     "output_type": "stream",
     "text": [
      "2025-01-01 New Year's Day\n",
      "2025-04-18 Good Friday\n",
      "2025-07-01 Canada Day\n",
      "2025-09-01 Labour Day\n",
      "2025-12-25 Christmas Day\n"
     ]
    }
   ],
   "source": [
    "ca_holidays_2025 = holidays.CA(years=2025)\n",
    "\n",
    "for date, name in sorted(ca_holidays_2025.items()):\n",
    "    print(date, name)"
   ]
  },
  {
   "cell_type": "markdown",
   "id": "ef6e7a34-6f01-426d-972f-654d027cb510",
   "metadata": {},
   "source": [
    "Unfortunately, the `holidays` package only defines five Canadian holidays.\n",
    "I am therefore going to have to implement the code that defines all the Federal holidays."
   ]
  },
  {
   "cell_type": "code",
   "execution_count": 12,
   "id": "fe96b617-762b-47b0-b77e-320c1547daf7",
   "metadata": {},
   "outputs": [
    {
     "data": {
      "text/plain": [
       "{\"New Year's Day\": datetime.date(2025, 1, 1),\n",
       " 'Good Friday': datetime.date(2025, 4, 18),\n",
       " 'Easter Sunday': datetime.date(2025, 4, 20),\n",
       " 'Easter Monday': datetime.date(2025, 4, 21),\n",
       " 'Victoria Day': datetime.date(2025, 5, 19),\n",
       " 'Canada Day': datetime.date(2025, 7, 1),\n",
       " 'Labour Day': datetime.date(2025, 9, 1),\n",
       " 'National Day for Truth and Reconciliation': datetime.date(2025, 9, 30),\n",
       " 'Thanksgiving Day': datetime.date(2025, 10, 13),\n",
       " 'Remembrance Day': datetime.date(2025, 11, 11),\n",
       " 'Christmas Day': datetime.date(2025, 12, 25),\n",
       " 'Boxing Day': datetime.date(2025, 12, 26),\n",
       " 'Civic Holiday': datetime.date(2025, 8, 4)}"
      ]
     },
     "execution_count": 12,
     "metadata": {},
     "output_type": "execute_result"
    }
   ],
   "source": [
    "from deadlines.canadian_holidays import calc_holidays\n",
    "\n",
    "holidays_2025 = calc_holidays(2025)\n",
    "\n",
    "holidays_2025"
   ]
  },
  {
   "cell_type": "code",
   "execution_count": 13,
   "id": "f15909d3-7cb2-42fd-aa33-9d2b8035715c",
   "metadata": {},
   "outputs": [
    {
     "name": "stdout",
     "output_type": "stream",
     "text": [
      "2025-01-01 New Year's Day\n",
      "2025-04-18 Good Friday\n",
      "2025-04-20 Easter Sunday\n",
      "2025-04-21 Easter Monday\n",
      "2025-05-19 Victoria Day\n",
      "2025-07-01 Canada Day\n",
      "2025-09-01 Labour Day\n",
      "2025-09-30 National Day for Truth and Reconciliation\n",
      "2025-10-13 Thanksgiving Day\n",
      "2025-11-11 Remembrance Day\n",
      "2025-12-25 Christmas Day\n",
      "2025-12-26 Boxing Day\n",
      "2025-08-04 Civic Holiday\n"
     ]
    }
   ],
   "source": [
    "for name, date in holidays_2025.items():\n",
    "    print(date, name)"
   ]
  },
  {
   "cell_type": "code",
   "execution_count": 14,
   "id": "b73fe88f-3df1-428b-8c8b-e188efe77b76",
   "metadata": {},
   "outputs": [
    {
     "name": "stdout",
     "output_type": "stream",
     "text": [
      "2025-01-01 New Year's Day\n",
      "2025-04-18 Good Friday\n",
      "2025-04-20 Easter Sunday\n",
      "2025-04-21 Easter Monday\n",
      "2025-05-19 Victoria Day\n",
      "2025-07-01 Canada Day\n",
      "2025-09-01 Labour Day\n",
      "2025-09-30 National Day for Truth and Reconciliation\n",
      "2025-10-13 Thanksgiving Day\n",
      "2025-11-11 Remembrance Day\n",
      "2025-12-25 Christmas Day\n",
      "2025-12-26 Boxing Day\n",
      "2025-06-24 Saint-Jean-Baptiste Day\n"
     ]
    }
   ],
   "source": [
    "quebec_2025 = calc_holidays(2025, is_quebec=True)\n",
    "\n",
    "for name, date in quebec_2025.items():\n",
    "    print(date, name)"
   ]
  }
 ],
 "metadata": {
  "kernelspec": {
   "display_name": "Python 3 (ipykernel)",
   "language": "python",
   "name": "python3"
  },
  "language_info": {
   "codemirror_mode": {
    "name": "ipython",
    "version": 3
   },
   "file_extension": ".py",
   "mimetype": "text/x-python",
   "name": "python",
   "nbconvert_exporter": "python",
   "pygments_lexer": "ipython3",
   "version": "3.11.11"
  }
 },
 "nbformat": 4,
 "nbformat_minor": 5
}
