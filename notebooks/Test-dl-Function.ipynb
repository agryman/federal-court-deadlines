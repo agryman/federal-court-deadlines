{
 "cells": [
  {
   "cell_type": "markdown",
   "id": "d954f4c5-24ea-4c50-ba5b-60287cf162df",
   "metadata": {},
   "source": [
    "# Test dl Function\n",
    "*Arthur Ryman, lasted updated 2025-04-01*"
   ]
  },
  {
   "cell_type": "markdown",
   "id": "d4f821a8-1a04-4e50-bdc6-dcb60e0e2d33",
   "metadata": {},
   "source": [
    "## Introduction\n",
    "\n",
    "This notebooks tests the the `dl` function for computing Federal Court deadlines.\n",
    "It is a convenience function that represents dates as strings in ISO YYYY-MM-DD format."
   ]
  },
  {
   "cell_type": "markdown",
   "id": "4ceb3c19-3aa8-4bc8-8196-befad59ae13c",
   "metadata": {},
   "source": [
    "Import the `dl` function."
   ]
  },
  {
   "cell_type": "code",
   "execution_count": 1,
   "id": "35895b04-bbcb-4a43-8120-1c0bf9e4557f",
   "metadata": {},
   "outputs": [
    {
     "name": "stdout",
     "output_type": "stream",
     "text": [
      "Help on function dl in module deadlines.due_dates:\n",
      "\n",
      "dl(event_date_str: str, signed_number_of_days: int, is_quebec: bool = False) -> str\n",
      "    Compute the deadline for a given event date and number of days.\n",
      "    \n",
      "    Args:\n",
      "        event_date_str: The date of the event in YYYY-MM-DD format.\n",
      "        signed_number_of_days: The number of days between the event date and deadline.\n",
      "        is_quebec: If True, the deadline is calculated according to Quebec rules.\n",
      "    \n",
      "    Returns:\n",
      "        The computed deadline date in YYYY-MM-DD format.\n",
      "\n"
     ]
    }
   ],
   "source": [
    "from deadlines.due_dates import dl\n",
    "\n",
    "help(dl)"
   ]
  },
  {
   "cell_type": "markdown",
   "id": "40543a1e-8385-4eec-939f-838b0ea5215d",
   "metadata": {},
   "source": [
    "The `dl` function requires two arguments, namely the event day and the number of days between the event and the required action.\n",
    "The optional third argument is used when the court is located in Quebec."
   ]
  },
  {
   "cell_type": "markdown",
   "id": "ad29ffc0-1e07-4e26-a56e-beb2161c71d1",
   "metadata": {},
   "source": [
    "Import the Guideline examples."
   ]
  },
  {
   "cell_type": "code",
   "execution_count": 2,
   "id": "f3d2d859-937b-4a00-9cbf-6eb147672541",
   "metadata": {},
   "outputs": [
    {
     "data": {
      "text/plain": [
       "[Example(description='General Example 1 - 10 Days', event_date=datetime.date(2012, 5, 31), number_of_days=10, after_event=True, deadline_date=datetime.date(2012, 6, 11)),\n",
       " Example(description='General Example 2 - 20 Days', event_date=datetime.date(2012, 5, 1), number_of_days=20, after_event=True, deadline_date=datetime.date(2012, 5, 22)),\n",
       " Example(description='General Example 3 - 30 Days', event_date=datetime.date(2012, 5, 4), number_of_days=30, after_event=True, deadline_date=datetime.date(2012, 6, 4)),\n",
       " Example(description='Holidays and Weekends Example 1 - 30 Days', event_date=datetime.date(2012, 5, 4), number_of_days=30, after_event=True, deadline_date=datetime.date(2012, 6, 4)),\n",
       " Example(description='Holidays and Weekends Example 2 - 4 Days', event_date=datetime.date(2012, 4, 3), number_of_days=4, after_event=True, deadline_date=datetime.date(2012, 4, 11)),\n",
       " Example(description='Summer Recess Example 1 - 30 Days', event_date=datetime.date(2012, 6, 11), number_of_days=30, after_event=True, deadline_date=datetime.date(2012, 9, 11)),\n",
       " Example(description='Seasonal Recess Example 1 - 30 Days', event_date=datetime.date(2012, 12, 14), number_of_days=30, after_event=True, deadline_date=datetime.date(2013, 1, 31)),\n",
       " Example(description='Seasonal Recess Example 2 - 10 Days', event_date=datetime.date(2012, 12, 14), number_of_days=10, after_event=True, deadline_date=datetime.date(2013, 1, 11)),\n",
       " Example(description='Seasonal Recess Example 3 - 4 Days', event_date=datetime.date(2021, 12, 16), number_of_days=4, after_event=True, deadline_date=datetime.date(2022, 1, 11))]"
      ]
     },
     "execution_count": 2,
     "metadata": {},
     "output_type": "execute_result"
    }
   ],
   "source": [
    "from deadlines.examples import guideline_examples\n",
    "\n",
    "guideline_examples"
   ]
  },
  {
   "cell_type": "code",
   "execution_count": 3,
   "id": "e3e61e4f-8ece-41f4-9334-807bbb9f67d8",
   "metadata": {},
   "outputs": [
    {
     "name": "stdout",
     "output_type": "stream",
     "text": [
      "General Example 1 - 10 Days 2012-05-31 10 2012-06-11\n",
      "General Example 2 - 20 Days 2012-05-01 20 2012-05-22\n",
      "General Example 3 - 30 Days 2012-05-04 30 2012-06-04\n",
      "Holidays and Weekends Example 1 - 30 Days 2012-05-04 30 2012-06-04\n",
      "Holidays and Weekends Example 2 - 4 Days 2012-04-03 4 2012-04-11\n",
      "Summer Recess Example 1 - 30 Days 2012-06-11 30 2012-09-11\n",
      "Seasonal Recess Example 1 - 30 Days 2012-12-14 30 2013-01-31\n",
      "Seasonal Recess Example 2 - 10 Days 2012-12-14 10 2013-01-11\n",
      "Seasonal Recess Example 3 - 4 Days 2021-12-16 4 2022-01-11\n"
     ]
    }
   ],
   "source": [
    "for ex in guideline_examples:\n",
    "    print(ex.description, ex.event_date, ex.number_of_days, ex.deadline_date)"
   ]
  },
  {
   "cell_type": "markdown",
   "id": "fafa7d5d-de0a-4435-825c-eb957607fa38",
   "metadata": {},
   "source": [
    "Test the `dl` function on the examples."
   ]
  },
  {
   "cell_type": "code",
   "execution_count": 4,
   "id": "8d65a699-0a46-4984-889d-9817e7af5559",
   "metadata": {},
   "outputs": [
    {
     "data": {
      "text/plain": [
       "'2012-06-11'"
      ]
     },
     "execution_count": 4,
     "metadata": {},
     "output_type": "execute_result"
    }
   ],
   "source": [
    "# General Example 1 - 10 Days\n",
    "dl('2012-05-31', 10)"
   ]
  },
  {
   "cell_type": "code",
   "execution_count": 5,
   "id": "54b31a21-6ca3-4d4a-a4e3-bf38b004dce5",
   "metadata": {},
   "outputs": [
    {
     "data": {
      "text/plain": [
       "'2012-05-22'"
      ]
     },
     "execution_count": 5,
     "metadata": {},
     "output_type": "execute_result"
    }
   ],
   "source": [
    "# General Example 2 - 20 Days\n",
    "dl('2012-05-01', 20)"
   ]
  },
  {
   "cell_type": "code",
   "execution_count": 6,
   "id": "6b6ecaa8-e1c3-4355-af86-45008697d354",
   "metadata": {},
   "outputs": [
    {
     "data": {
      "text/plain": [
       "'2012-06-04'"
      ]
     },
     "execution_count": 6,
     "metadata": {},
     "output_type": "execute_result"
    }
   ],
   "source": [
    "# General Example 3 - 30 Days\n",
    "dl('2012-05-04', 30)"
   ]
  },
  {
   "cell_type": "code",
   "execution_count": 7,
   "id": "fc556819-b3c4-4e5b-910b-4e92d74348fa",
   "metadata": {},
   "outputs": [
    {
     "data": {
      "text/plain": [
       "'2012-06-04'"
      ]
     },
     "execution_count": 7,
     "metadata": {},
     "output_type": "execute_result"
    }
   ],
   "source": [
    "# Holidays and Weekends Example 1 - 30 Days\n",
    "dl('2012-05-04', 30)"
   ]
  },
  {
   "cell_type": "code",
   "execution_count": 8,
   "id": "14dc7225-a75f-4327-84ce-2dbc83597dc1",
   "metadata": {},
   "outputs": [
    {
     "data": {
      "text/plain": [
       "'2012-04-11'"
      ]
     },
     "execution_count": 8,
     "metadata": {},
     "output_type": "execute_result"
    }
   ],
   "source": [
    "# Holidays and Weekends Example 2 - 4 Days\n",
    "dl('2012-04-03', 4)"
   ]
  },
  {
   "cell_type": "code",
   "execution_count": 9,
   "id": "8cba150a-8606-4514-b4dc-9699d388f74c",
   "metadata": {},
   "outputs": [
    {
     "data": {
      "text/plain": [
       "'2012-06-04'"
      ]
     },
     "execution_count": 9,
     "metadata": {},
     "output_type": "execute_result"
    }
   ],
   "source": [
    "# Summer Recess Example 1 - 30 Days\n",
    "dl('2012-05-04', 30)"
   ]
  },
  {
   "cell_type": "code",
   "execution_count": 10,
   "id": "6856b4e3-495c-4cf6-b5aa-94cd0c5529a2",
   "metadata": {},
   "outputs": [
    {
     "data": {
      "text/plain": [
       "'2013-01-31'"
      ]
     },
     "execution_count": 10,
     "metadata": {},
     "output_type": "execute_result"
    }
   ],
   "source": [
    "# Seasonal Recess Example 1 - 30 Days\n",
    "dl('2012-12-14', 30)"
   ]
  },
  {
   "cell_type": "code",
   "execution_count": 11,
   "id": "31cddf65-f4f3-4b8a-a664-ffc1b780ebd5",
   "metadata": {},
   "outputs": [
    {
     "data": {
      "text/plain": [
       "'2013-01-11'"
      ]
     },
     "execution_count": 11,
     "metadata": {},
     "output_type": "execute_result"
    }
   ],
   "source": [
    "# Seasonal Recess Example 2 - 10 Days\n",
    "dl('2012-12-14', 10)"
   ]
  },
  {
   "cell_type": "code",
   "execution_count": 12,
   "id": "2b1302b7-e268-400d-9589-7e85435d2059",
   "metadata": {},
   "outputs": [
    {
     "data": {
      "text/plain": [
       "'2022-01-11'"
      ]
     },
     "execution_count": 12,
     "metadata": {},
     "output_type": "execute_result"
    }
   ],
   "source": [
    "# Seasonal Recess Example 3 - 4 Days\n",
    "dl('2021-12-16', 4)"
   ]
  }
 ],
 "metadata": {
  "kernelspec": {
   "display_name": "Python 3 (ipykernel)",
   "language": "python",
   "name": "python3"
  },
  "language_info": {
   "codemirror_mode": {
    "name": "ipython",
    "version": 3
   },
   "file_extension": ".py",
   "mimetype": "text/x-python",
   "name": "python",
   "nbconvert_exporter": "python",
   "pygments_lexer": "ipython3",
   "version": "3.11.11"
  }
 },
 "nbformat": 4,
 "nbformat_minor": 5
}
